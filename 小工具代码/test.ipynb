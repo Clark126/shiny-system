{
 "cells": [
  {
   "cell_type": "code",
   "execution_count": 22,
   "metadata": {},
   "outputs": [],
   "source": [
    "import pandas as pd\n",
    "import re \n",
    "import numpy as np"
   ]
  },
  {
   "cell_type": "code",
   "execution_count": 5,
   "metadata": {},
   "outputs": [],
   "source": [
    "df2 = pd.read_excel('D:/苏嘉豪/善诊项目/数据项目/健康顾问/email.output.xlsx')\n",
    "df = df2.loc[df2['日期']=='2020-2-24']\n",
    "tt = df['list(总服务时长)']"
   ]
  },
  {
   "cell_type": "code",
   "execution_count": null,
   "metadata": {
    "scrolled": false
   },
   "outputs": [],
   "source": [
    "def time2array(times):\n",
    "    tt = list(times)\n",
    "    tt_new = list()\n",
    "    for t in tt:\n",
    "        for s in re.findall(r'\\d+',t):\n",
    "            tt_new.append(int(s))\n",
    "    tt_new = np.array(tt_new)\n",
    "    print(np.percentile(tt_new,25))\n",
    "    print(np.median(tt_new))\n",
    "    print(np.average(tt_new))\n"
   ]
  },
  {
   "cell_type": "code",
   "execution_count": 37,
   "metadata": {},
   "outputs": [
    {
     "name": "stdout",
     "output_type": "stream",
     "text": [
      "0.0\n",
      "60.0\n",
      "238.8495575221239\n"
     ]
    }
   ],
   "source": [
    "ft = df['list(反馈时长)']\n",
    "ft_new = time2array(ft)\n"
   ]
  },
  {
   "cell_type": "code",
   "execution_count": 32,
   "metadata": {},
   "outputs": [
    {
     "data": {
      "text/plain": [
       "array([   60,    60,    60,     0,    60,    60,     0,     0,  1020,\n",
       "          60,   120,    60,   180, 11640,  5520,    60,     0,  4740,\n",
       "         120,    60,   120,   120,  2280,    60,     0,   120,    60,\n",
       "          60,   180,   240,    60,    60,   120,   120,   180,     0,\n",
       "         180,  1800,   540,    60,   120,    60,     0,   120,    60,\n",
       "           0,     0,     0,   180,    60,    60,     0,     0,     0,\n",
       "        1560,    60,    60,   360,    60,     0,     0,    60,   120,\n",
       "          60,     0,   120,    60,   120,    60,    60,   240,    60,\n",
       "          60,   180,  1920,    60,     0,     0,    60,     0,    60,\n",
       "          60,    60,     0,   540,    60,    60,  2160,   120,    60,\n",
       "         120,  1320,    60,     0,   180,     0,     0,     0,    60,\n",
       "          60,  4500,   120,     0,     0,    60,     0,   300,   300,\n",
       "          60,   120,     0,   120,    60,    60,     0,   540, 32340,\n",
       "          60,   120,    60,    60,    60,   480,    60,    60,    60,\n",
       "          60,    60,  1800,    60,  6600,     0,  1500,   120,   240,\n",
       "         720,  1560,  1080, 12480,    60,  2940,    60,    60,     0,\n",
       "          60,    60,    60,     0,    60,   120,     0,    60,   120,\n",
       "           0,   180,   120,    60,   240,   120,    60,     0,     0,\n",
       "           0,    60,     0,   360,    60,     0,    60,    60,     0,\n",
       "          60,   120,   120,     0,   240,    60,   240,     0,     0,\n",
       "        8040,     0,   180,    60,     0,    60,    60,   180,   120,\n",
       "          60,    60,    60,     0,     0,     0,     0,   420,     0,\n",
       "          60,  2700,    60,    60,   720,   900,   840,    60,   840])"
      ]
     },
     "execution_count": 32,
     "metadata": {},
     "output_type": "execute_result"
    }
   ],
   "source": [
    "ft_new"
   ]
  },
  {
   "cell_type": "code",
   "execution_count": 2,
   "metadata": {},
   "outputs": [
    {
     "name": "stdout",
     "output_type": "stream",
     "text": [
      "0 0.0\n",
      "1 0.524\n",
      "2 1.048\n",
      "3 1.572\n",
      "4 2.096\n",
      "5 2.62\n",
      "6 3.144\n",
      "7 3.668\n",
      "8 4.192\n",
      "9 4.716\n",
      "10 5.24\n",
      "11 5.764\n",
      "12 6.288\n",
      "13 6.812\n",
      "14 7.336\n",
      "15 7.86\n",
      "16 8.384\n",
      "17 8.908000000000001\n",
      "18 9.432\n",
      "19 9.956\n",
      "20 10.48\n",
      "21 11.004000000000001\n",
      "22 11.528\n",
      "23 12.052\n",
      "24 12.576\n",
      "25 13.100000000000001\n",
      "26 13.624\n",
      "27 14.148\n",
      "28 14.672\n",
      "29 15.196000000000002\n",
      "30 15.72\n",
      "31 16.244\n",
      "32 16.768\n",
      "33 17.292\n",
      "34 17.816000000000003\n",
      "35 18.34\n",
      "36 18.864\n",
      "37 19.388\n",
      "38 19.912\n",
      "39 20.436\n",
      "40 20.96\n",
      "41 21.484\n",
      "42 22.008000000000003\n",
      "43 22.532\n",
      "44 23.056\n",
      "45 23.580000000000002\n",
      "46 24.104\n",
      "47 24.628\n",
      "48 25.152\n",
      "49 25.676000000000002\n"
     ]
    }
   ],
   "source": [
    "for i in range(50):\n",
    "    print(i,i*0.524)"
   ]
  },
  {
   "cell_type": "code",
   "execution_count": null,
   "metadata": {},
   "outputs": [],
   "source": []
  }
 ],
 "metadata": {
  "kernelspec": {
   "display_name": "Python 3",
   "language": "python",
   "name": "python3"
  },
  "language_info": {
   "codemirror_mode": {
    "name": "ipython",
    "version": 3
   },
   "file_extension": ".py",
   "mimetype": "text/x-python",
   "name": "python",
   "nbconvert_exporter": "python",
   "pygments_lexer": "ipython3",
   "version": "3.7.0"
  }
 },
 "nbformat": 4,
 "nbformat_minor": 1
}
