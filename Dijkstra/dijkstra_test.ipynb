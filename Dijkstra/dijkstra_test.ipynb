{
 "cells": [
  {
   "cell_type": "code",
   "execution_count": 76,
   "metadata": {},
   "outputs": [
    {
     "data": {
      "text/plain": [
       "(17, ['A1', 'A2', 'A3', 'A4', 'B2', 'B3'])"
      ]
     },
     "execution_count": 76,
     "metadata": {},
     "output_type": "execute_result"
    }
   ],
   "source": [
    "inf = float('inf')\n",
    "matrix_distance = [[0,3,inf,inf,inf,inf,inf,inf,inf,inf,inf,inf,inf,inf,inf,inf,inf,inf,inf],\n",
    "                   [3,0,4,inf,inf,inf,inf,inf,inf,inf,inf,inf,inf,3,inf,inf,inf,inf,inf],\n",
    "                   [inf,4,0,4,inf,inf,inf,inf,inf,inf,inf,inf,inf,inf,inf,inf,inf,inf,inf],\n",
    "                   [inf,inf,4,0,5,inf,3,inf,inf,inf,inf,inf,inf,inf,inf,inf,inf,inf,inf],\n",
    "                   [inf,inf,inf,5,0,inf,inf,inf,inf,inf,inf,inf,inf,inf,inf,inf,inf,inf,inf],\n",
    "                   [inf,inf,inf,inf,inf,0,4,inf,inf,inf,inf,inf,inf,inf,inf,inf,inf,inf,inf],\n",
    "                   [inf,inf,inf,3,inf,4,0,3,inf,inf,inf,inf,inf,inf,inf,inf,inf,inf,inf],\n",
    "                   [inf,inf,inf,inf,inf,inf,3,0,3,inf,inf,inf,inf,inf,inf,inf,inf,inf,inf],\n",
    "                   [inf,inf,inf,inf,inf,inf,inf,3,0,4,inf,inf,inf,inf,inf,5,inf,inf,inf],\n",
    "                   [inf,inf,inf,inf,inf,inf,inf,inf,4,0,3,inf,inf,inf,inf,inf,inf,inf,inf],\n",
    "                   [inf,inf,inf,inf,inf,inf,inf,inf,inf,3,0,inf,inf,inf,inf,inf,inf,inf,inf],\n",
    "                   [inf,inf,inf,inf,inf,inf,inf,inf,inf,inf,inf,0,5,inf,inf,inf,inf,inf,inf],\n",
    "                   [inf,inf,inf,inf,inf,inf,inf,inf,inf,inf,inf,5,0,4,inf,inf,inf,inf,inf],\n",
    "                   [inf,3,inf,inf,inf,inf,inf,inf,inf,inf,inf,inf,4,0,3,inf,inf,inf,inf],\n",
    "                   [inf,inf,inf,inf,inf,inf,inf,inf,inf,inf,inf,inf,inf,3,0,3,inf,inf,inf],\n",
    "                   [inf,inf,inf,inf,inf,inf,inf,inf,5,inf,inf,inf,inf,inf,3,0,4,inf,inf],\n",
    "                   [inf,inf,inf,inf,inf,inf,inf,inf,inf,inf,inf,inf,inf,inf,inf,4,0,4,inf],\n",
    "                   [inf,inf,inf,inf,inf,inf,inf,inf,inf,inf,inf,inf,inf,inf,inf,inf,4,0,3],\n",
    "                   [inf,inf,inf,inf,inf,inf,inf,inf,inf,inf,inf,inf,inf,inf,inf,inf,inf,3,0]]\n",
    "distation =['A1','A2','A3','A4','A5','B1','B2','B3','B4','B5','B6','C1','C2','C3','C4','C5','C6','C7','C8']\n",
    "\n",
    "def dijkstra(matrix_distance, source,end,distation):\n",
    "    source_node=distation.index(source)\n",
    "    end_node=distation.index(end)\n",
    "    inf = float('inf')\n",
    "    # init the source node distance to others\n",
    "    dis = matrix_distance[source_node]\n",
    "    node_nums = len(dis)\n",
    "#     path=[]\n",
    "#     for i in range(0,node_nums):\n",
    "#         a=distation[i]\n",
    "#         path.append([source,a])\n",
    "    path=[source_node]*node_nums\n",
    "    flag = [0 for i in range(node_nums)]\n",
    "    flag[source_node] = 1\n",
    "    for i in range(node_nums-1):\n",
    "        min = inf\n",
    "        #find the min node from the source node\n",
    "        for j in range(node_nums):\n",
    "            if flag[j] == 0 and dis[j] < min:\n",
    "                min = dis[j]\n",
    "                u = j\n",
    "        flag[u] = 1\n",
    "        #update the dis \n",
    "        for v in range(node_nums):\n",
    "            if flag[v] == 0 and matrix_distance[u][v] < inf:\n",
    "                if dis[v] > dis[u] + matrix_distance[u][v]:\n",
    "                    dis[v] = dis[u] + matrix_distance[u][v]\n",
    "                    path[v]=u\n",
    "        if u==end_node:\n",
    "            break\n",
    "        route=[distation[end_node]]\n",
    "        finish = end_node\n",
    "        while finish != source_node:\n",
    "            finish=path[finish]\n",
    "            route.append(distation[finish])\n",
    "        route.reverse()\n",
    "#         route=[]\n",
    "#         t=\n",
    "#         while \n",
    "                    \n",
    "    \n",
    "    return dis[end_node],route\n",
    "\n",
    "dijkstra(matrix_distance,'A1','B3',distation)"
   ]
  },
  {
   "cell_type": "code",
   "execution_count": 74,
   "metadata": {
    "scrolled": true
   },
   "outputs": [
    {
     "data": {
      "text/plain": [
       "(11, ['A1', 'A4'])"
      ]
     },
     "execution_count": 74,
     "metadata": {},
     "output_type": "execute_result"
    }
   ],
   "source": []
  },
  {
   "cell_type": "code",
   "execution_count": 33,
   "metadata": {},
   "outputs": [
    {
     "name": "stdout",
     "output_type": "stream",
     "text": [
      "请输入起点：A1\n",
      "请输入终点：C5\n"
     ]
    }
   ],
   "source": [
    "a=input('请输入起点：')\n",
    "b=input('请输入终点：')"
   ]
  },
  {
   "cell_type": "code",
   "execution_count": 31,
   "metadata": {},
   "outputs": [
    {
     "name": "stdout",
     "output_type": "stream",
     "text": [
      "[['A1', 'A1'], ['A1', 'A2'], ['A1', 'A3'], ['A1', 'A4'], ['A1', 'A5'], ['A1', 'B1'], ['A1', 'B2'], ['A1', 'B3'], ['A1', 'B4'], ['A1', 'B5']]\n"
     ]
    }
   ],
   "source": [
    "path=[]\n",
    "for i in range(0,10):\n",
    "    a=distation[i]\n",
    "    path.append(['A1',a])\n",
    "print(path)"
   ]
  },
  {
   "cell_type": "code",
   "execution_count": 34,
   "metadata": {},
   "outputs": [
    {
     "name": "stdout",
     "output_type": "stream",
     "text": [
      "12\n"
     ]
    }
   ],
   "source": [
    "print(dijkstra(matrix_distance, a,b))"
   ]
  },
  {
   "cell_type": "code",
   "execution_count": null,
   "metadata": {},
   "outputs": [],
   "source": []
  }
 ],
 "metadata": {
  "kernelspec": {
   "display_name": "Python 3",
   "language": "python",
   "name": "python3"
  },
  "language_info": {
   "codemirror_mode": {
    "name": "ipython",
    "version": 3
   },
   "file_extension": ".py",
   "mimetype": "text/x-python",
   "name": "python",
   "nbconvert_exporter": "python",
   "pygments_lexer": "ipython3",
   "version": "3.7.0"
  }
 },
 "nbformat": 4,
 "nbformat_minor": 2
}
